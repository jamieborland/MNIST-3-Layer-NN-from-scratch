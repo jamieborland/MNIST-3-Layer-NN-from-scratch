{
 "cells": [
  {
   "cell_type": "markdown",
   "id": "31858680",
   "metadata": {},
   "source": [
    "# 3-Layer Neural Network from scratch\n"
   ]
  },
  {
   "cell_type": "markdown",
   "id": "ed2a17b2",
   "metadata": {},
   "source": [
    "### Load the relevant libraries"
   ]
  },
  {
   "cell_type": "code",
   "execution_count": 37,
   "id": "085ed683",
   "metadata": {},
   "outputs": [],
   "source": [
    "import numpy as np\n",
    "import pandas as pd\n",
    "from matplotlib import pyplot as plt"
   ]
  },
  {
   "cell_type": "markdown",
   "id": "f44a023a",
   "metadata": {},
   "source": [
    "### Load the data"
   ]
  },
  {
   "cell_type": "code",
   "execution_count": 38,
   "id": "e428302b",
   "metadata": {},
   "outputs": [],
   "source": [
    "data_pd=pd.read_csv('/Users/jamie/Personal/Coding/archive/mnist_train.csv')"
   ]
  },
  {
   "cell_type": "markdown",
   "id": "0d5391c5",
   "metadata": {},
   "source": [
    "### Pre-process the data\n",
    "Transpose to create a 785x60000 matrix, so each column is an example. Then seperate x and y data."
   ]
  },
  {
   "cell_type": "code",
   "execution_count": 40,
   "id": "f47214f9",
   "metadata": {},
   "outputs": [],
   "source": [
    "data_np=np.array(data_pd).T\n",
    "m,n =data_np.shape\n",
    "y_data = data_np[0]\n",
    "x_data= data_np[1:n]"
   ]
  },
  {
   "cell_type": "markdown",
   "id": "234b0d1f",
   "metadata": {},
   "source": [
    "### Network Architecture\n",
    "Below is the architecture for the NN. I define the activation functions, the forward and backwards prop, the function for intialisng the parameteres, the accuracy function, the one-hot encoding of my labels, as well as the function to update parameters."
   ]
  },
  {
   "cell_type": "code",
   "execution_count": 42,
   "id": "920e217f",
   "metadata": {},
   "outputs": [],
   "source": [
    "def relu(Z):\n",
    "    return np.maximum(0, Z)\n",
    "\n",
    "def softmax(Z):\n",
    "    Z_shifted = Z - np.max(Z, axis=0)\n",
    "    return np.exp(Z_shifted) / np.sum(np.exp(Z_shifted), axis=0)\n",
    "\n",
    "\n",
    "def forward_propagation(x, w1, b1, w2, b2, w3, b3):\n",
    "    z1 = np.dot(w1, x) + b1\n",
    "    a1 = relu(z1)\n",
    "    z2 = np.dot(w2, a1) + b2\n",
    "    a2 = relu(z2)\n",
    "    z3= np.dot(w3, a2) + b3\n",
    "    a3 = softmax(z3)\n",
    "    return z1, a1, z2, a2, z3, a3\n",
    "\n",
    "def initial_params(input_lyr, hid_lyr_1, hid_lyr_2, output_lyr):\n",
    "    b1 = np.full((hid_lyr_1, 1), 0.01)\n",
    "    w1 = np.random.randn(hid_lyr_1, input_lyr) * np.sqrt(2. / input_lyr)\n",
    "    b2 = np.full((hid_lyr_2, 1), 0.01)\n",
    "    w2 = np.random.randn(hid_lyr_2, hid_lyr_1) * np.sqrt(2. / hid_lyr_1)\n",
    "    b3 = np.full((output_lyr, 1), 0.01)\n",
    "    w3 = np.random.randn(output_lyr, hid_lyr_2) * np.sqrt(2. / hid_lyr_1)\n",
    "    return w1, b1, w2, b2, w3, b3\n",
    "\n",
    "def one_hot(Y):\n",
    "    one_hot_y=np.zeros((Y.size, Y.max()+1))\n",
    "    one_hot_y[np.arange(Y.size), Y]=1\n",
    "    one_hot_y=one_hot_y.T\n",
    "    return one_hot_y\n",
    "    \n",
    "def derivative_relu(Z):\n",
    "    return Z > 0\n",
    "    \n",
    "def backwards_propagation(y, z1, a1, z2, a2, x, w2, z3, a3, w3):\n",
    "    one_hot_y= one_hot(y)\n",
    "    m = y.size\n",
    "    dz3 = a3 - one_hot_y\n",
    "    dw3 = 1/m*np.dot(dz3,a2.T)\n",
    "    db3 = np.sum(dz3, axis=1, keepdims=True)/m\n",
    "    dz2 = np.dot(w3.T, dz3)*derivative_relu(z2)\n",
    "    dw2 = 1/m* np.dot(dz2,a1.T)\n",
    "    db2 = np.sum(dz2, axis=1, keepdims=True) / m\n",
    "    dz1 = np.dot(w2.T, dz2)*derivative_relu(z1)\n",
    "    dw1 = 1/m * np.dot(dz1,x.T)\n",
    "    db1 = np.sum(dz1, axis=1, keepdims=True) / m\n",
    "    return dw1, db1, dw2, db2, dw3, db3\n",
    "\n",
    "def update_parameters(w1, b1, w2, b2, w3, b3, dw1, db1, dw2, db2, dw3, db3, alpha):\n",
    "    w1 = w1 - alpha * dw1\n",
    "    b1 = b1 - alpha * db1\n",
    "    w2 = w2 - alpha * dw2\n",
    "    b2 = b2 - alpha * db2\n",
    "    w3 = w3 - alpha * dw3\n",
    "    b3 = b3 - alpha * db3\n",
    "    return w1, b1, w2, b2, w3, b3\n",
    "\n",
    "def compute_accuracy(y_true, y_pred):\n",
    "    \"\"\"\n",
    "    Computes the accuracy of the predictions.\n",
    "\n",
    "    Parameters:\n",
    "    y_true (numpy.ndarray): The true labels (not one-hot encoded).\n",
    "    y_pred (numpy.ndarray): The predictions, as probabilities (output of softmax).\n",
    "\n",
    "    Returns:\n",
    "    float: The accuracy.\n",
    "    \"\"\"\n",
    "    # Get predicted labels from y_pred\n",
    "    predictions = np.argmax(y_pred, axis=0)\n",
    "    correct_predictions = predictions == y_true\n",
    "    accuracy = np.mean(correct_predictions)\n",
    "    return accuracy"
   ]
  },
  {
   "cell_type": "markdown",
   "id": "54c7202e",
   "metadata": {},
   "source": [
    "### Gradient Descent\n",
    "Here is my gradient descent function. I chose to print the training accuracy at set intervbals to observe model performance"
   ]
  },
  {
   "cell_type": "code",
   "execution_count": 43,
   "id": "6596bab5",
   "metadata": {},
   "outputs": [],
   "source": [
    "def gradient_descent(x, y, iterations, alpha, input_lyr, hid_lyr_1, hid_lyr_2, output_lyr):\n",
    "    w1, b1, w2, b2, w3, b3 = initial_params(input_lyr, hid_lyr_1, hid_lyr_2, output_lyr) # Ensure this function is defined and returns the initial parameters\n",
    "    for i in range(iterations):\n",
    "        z1, a1, z2, a2, z3, a3 = forward_propagation(x, w1, b1, w2, b2, w3, b3)\n",
    "        dw1, db1, dw2, db2, dw3, db3 = backwards_propagation(y, z1, a1, z2, a2, x, w2, z3, a3, w3)\n",
    "        w1, b1, w2, b2, w3, b3 = update_parameters(w1, b1, w2, b2, w3, b3, dw1, db1, dw2, db2, dw3, db3, alpha)\n",
    "        if i % 250 == 0:  # Optionally, print the accuracy every 100 iterations\n",
    "            accuracy = compute_accuracy(y, a3)\n",
    "            print(f\"Iteration {i}: Accuracy = {accuracy}\")\n",
    "\n",
    "\n",
    "    return w1, b1, w2, b2, w3, b3"
   ]
  },
  {
   "cell_type": "markdown",
   "id": "4ed590b1",
   "metadata": {},
   "source": [
    "### Training Network\n",
    "Here I define the neurons in my NN, and train the netowrk."
   ]
  },
  {
   "cell_type": "code",
   "execution_count": 45,
   "id": "9c38305d",
   "metadata": {
    "scrolled": true
   },
   "outputs": [
    {
     "name": "stdout",
     "output_type": "stream",
     "text": [
      "Iteration 0: Accuracy = 0.10263333333333333\n",
      "Iteration 250: Accuracy = 0.8702\n",
      "Iteration 500: Accuracy = 0.89735\n",
      "Iteration 750: Accuracy = 0.91105\n"
     ]
    }
   ],
   "source": [
    "input_lyr= 784\n",
    "hid_lyr_1 = 256\n",
    "hid_lyr_2 = 128\n",
    "output_lyr=10\n",
    "w1, b1, w2, b2, w3, b3 = gradient_descent(x_data, y_data, 1000, 0.0005, input_lyr, hid_lyr_1, hid_lyr_2, output_lyr)"
   ]
  },
  {
   "cell_type": "markdown",
   "id": "915c9889",
   "metadata": {},
   "source": [
    "### Testing the Network\n",
    "Load the test dataset, separate the x and y, and test the model."
   ]
  },
  {
   "cell_type": "code",
   "execution_count": 47,
   "id": "1a7bad43",
   "metadata": {},
   "outputs": [
    {
     "name": "stdout",
     "output_type": "stream",
     "text": [
      "Test Accuracy: 0.8959\n"
     ]
    }
   ],
   "source": [
    "test_data_pd=pd.read_csv('/Users/jamie/Personal/Coding/archive/mnist_test.csv')\n",
    "test_data_np=np.array(test_data_pd).T\n",
    "t,u = test_data_np.shape\n",
    "y_test = test_data_np[0]\n",
    "x_test= test_data_np[1:u]\n",
    "z_test, a1_test, z2_test, a2_test, z3_test, a3_test = forward_propagation(x_test, w1, b1, w2, b2, w3, b3)\n",
    "test_accuracy = compute_accuracy(y_test, a3_test)\n",
    "\n",
    "print(f\"Test Accuracy: {test_accuracy}\")"
   ]
  },
  {
   "cell_type": "markdown",
   "id": "622e4351",
   "metadata": {},
   "source": [
    "### Image function\n",
    "Function to display an observation in image format, with the true label and predicted label. Also functions to determine the set of correct and incorrect predictions, and then select a random susbset of each."
   ]
  },
  {
   "cell_type": "code",
   "execution_count": 48,
   "id": "95e7621d",
   "metadata": {},
   "outputs": [],
   "source": [
    "def display_image_with_prediction(index, x_test, y_test, w1, b1, w2, b2, w3, b3):\n",
    "    \"\"\"\n",
    "    Display an image from the test set and the model's prediction.\n",
    "\n",
    "    Parameters:\n",
    "    - index: Index of the image in the test dataset.\n",
    "    - x_test: Test images.\n",
    "    - y_test: True labels for the test images.\n",
    "    - w1, b1, w2, b2, w3, b3: Parameters of the trained model.\n",
    "    \"\"\"\n",
    "    # Reshape the image to 28x28 for display\n",
    "    image = x_test[:, index].reshape(28, 28)\n",
    "    plt.imshow(image, cmap='gray')\n",
    "    plt.axis('off')  # Do not show axes to keep it clean\n",
    "    plt.show()\n",
    "    \n",
    "    # Predict the label for the selected image\n",
    "    # Note: x_test[:, index:index+1] is used to keep the dimension\n",
    "    _, _, _, _, _, a3 = forward_propagation(x_test[:, index:index+1], w1, b1, w2, b2, w3, b3)\n",
    "    predicted_label = np.argmax(a3, axis=0)\n",
    "    \n",
    "    print(f\"True Label: {y_test[index]}\")\n",
    "    print(f\"Predicted Label: {predicted_label[0]}\")\n",
    "    \n",
    "def incorrect_predictions_indices(y_test, a3_test):\n",
    "    predictions = np.argmax(a3_test, axis=0) \n",
    "    incorrect_indices = np.where(y_test != predictions)[0]\n",
    "    return incorrect_indices\n",
    "\n",
    "def correct_predictions_indices(y_test, a3_test):\n",
    "    predictions = np.argmax(a3_test, axis = 0)\n",
    "    correct_indices = np.where(y_test == predictions)[0]\n",
    "    return correct_indices\n",
    "\n",
    "\n",
    "def display_multiple_images(random_subset, x_test, y_test, w1, b1, w2, b2, w3, b3):\n",
    "    for i in random_subset:\n",
    "        display_image_with_prediction(i, x_test, y_test, w1, b1, w2, b2, w3, b3)\n"
   ]
  },
  {
   "cell_type": "markdown",
   "id": "8751d45d",
   "metadata": {},
   "source": [
    "### Images of correct predictions\n",
    "Print 5 correct predictions"
   ]
  },
  {
   "cell_type": "code",
   "execution_count": 49,
   "id": "92be7a2a",
   "metadata": {},
   "outputs": [
    {
     "data": {
      "image/png": "[encoded data removed]",
      "text/plain": [
       "<Figure size 640x480 with 1 Axes>"
      ]
     },
     "metadata": {},
     "output_type": "display_data"
    },
    {
     "name": "stdout",
     "output_type": "stream",
     "text": [
      "True Label: 3\n",
      "Predicted Label: 3\n"
     ]
    },
    {
     "data": {
      "image/png": "[encoded data removed]",
      "text/plain": [
       "<Figure size 640x480 with 1 Axes>"
      ]
     },
     "metadata": {},
     "output_type": "display_data"
    },
    {
     "name": "stdout",
     "output_type": "stream",
     "text": [
      "True Label: 9\n",
      "Predicted Label: 9\n"
     ]
    },
    {
     "data": {
      "image/png": "[encoded data removed]",
      "text/plain": [
       "<Figure size 640x480 with 1 Axes>"
      ]
     },
     "metadata": {},
     "output_type": "display_data"
    },
    {
     "name": "stdout",
     "output_type": "stream",
     "text": [
      "True Label: 1\n",
      "Predicted Label: 1\n"
     ]
    }
   ],
   "source": [
    "correct_indices = correct_predictions_indices(y_test, a3_test)\n",
    "random_subset_2 = np.random.choice(correct_indices, size=3, replace=False)\n",
    "display_multiple_images(random_subset_2, x_test, y_test, w1, b1, w2, b2, w3, b3)"
   ]
  },
  {
   "cell_type": "markdown",
   "id": "5ec57c21",
   "metadata": {},
   "source": [
    "### Incorrect Images\n",
    "Print 5 incorrect predictions"
   ]
  },
  {
   "cell_type": "code",
   "execution_count": 50,
   "id": "350ba1d8",
   "metadata": {},
   "outputs": [
    {
     "data": {
      "image/png": "[encoded data removed]",
      "text/plain": [
       "<Figure size 640x480 with 1 Axes>"
      ]
     },
     "metadata": {},
     "output_type": "display_data"
    },
    {
     "name": "stdout",
     "output_type": "stream",
     "text": [
      "True Label: 5\n",
      "Predicted Label: 8\n"
     ]
    },
    {
     "data": {
      "image/png": "[encoded data removed]",
      "text/plain": [
       "<Figure size 640x480 with 1 Axes>"
      ]
     },
     "metadata": {},
     "output_type": "display_data"
    },
    {
     "name": "stdout",
     "output_type": "stream",
     "text": [
      "True Label: 9\n",
      "Predicted Label: 4\n"
     ]
    },
    {
     "data": {
      "image/png": "[encoded data removed]",
      "text/plain": [
       "<Figure size 640x480 with 1 Axes>"
      ]
     },
     "metadata": {},
     "output_type": "display_data"
    },
    {
     "name": "stdout",
     "output_type": "stream",
     "text": [
      "True Label: 4\n",
      "Predicted Label: 9\n"
     ]
    }
   ],
   "source": [
    "incorrect_indices = incorrect_predictions_indices(y_test, a3_test)\n",
    "random_subset = np.random.choice(incorrect_indices, size=3, replace=False)\n",
    "display_multiple_images(random_subset, x_test, y_test, w1, b1, w2, b2, w3, b3)"
   ]
  }
 ],
 "metadata": {
  "kernelspec": {
   "display_name": "Python 3 (ipykernel)",
   "language": "python",
   "name": "python3"
  },
  "language_info": {
   "codemirror_mode": {
    "name": "ipython",
    "version": 3
   },
   "file_extension": ".py",
   "mimetype": "text/x-python",
   "name": "python",
   "nbconvert_exporter": "python",
   "pygments_lexer": "ipython3",
   "version": "3.9.13"
  }
 },
 "nbformat": 4,
 "nbformat_minor": 5
}
