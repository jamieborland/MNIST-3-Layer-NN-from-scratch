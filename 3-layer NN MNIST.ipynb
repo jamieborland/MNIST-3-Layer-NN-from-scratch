{
 "cells": [
  {
   "cell_type": "code",
   "execution_count": null,
   "id": "966c6cd6",
   "metadata": {},
   "outputs": [],
   "source": [
    "import numpy as np\n",
    "import pandas as pd\n",
    "from matplotlib import pyplot as plt\n"
   ]
  },
  {
   "cell_type": "code",
   "execution_count": 2,
   "id": "c4403c4b",
   "metadata": {},
   "outputs": [],
   "source": [
    "data_pd=pd.read_csv('/Users/jamie/Personal/Coding/archive/mnist_train.csv')"
   ]
  },
  {
   "cell_type": "code",
   "execution_count": 3,
   "id": "3fbf8e08",
   "metadata": {},
   "outputs": [],
   "source": [
    "data_np=np.array(data_pd).T\n",
    "m,n =data_np.shape\n",
    "y_data = data_np[0]\n",
    "x_data= data_np[1:n]\n",
    "\n",
    "input_lyr= 784\n",
    "hid_lyr_1 = 256\n",
    "hid_lyr_2 = 128\n",
    "output_lyr=10"
   ]
  },
  {
   "cell_type": "code",
   "execution_count": 4,
   "id": "98570843",
   "metadata": {},
   "outputs": [],
   "source": [
    "def relu(Z):\n",
    "    return np.maximum(0, Z)\n",
    "\n",
    "def softmax(Z):\n",
    "    Z_shifted = Z - np.max(Z, axis=0)\n",
    "    return np.exp(Z_shifted) / np.sum(np.exp(Z_shifted), axis=0)\n",
    "\n",
    "\n",
    "def forward_propagation(x, w1, b1, w2, b2, w3, b3):\n",
    "    z1 = np.dot(w1, x) + b1\n",
    "    a1 = relu(z1)\n",
    "    z2 = np.dot(w2, a1) + b2\n",
    "    a2 = relu(z2)\n",
    "    z3= np.dot(w3, a2) + b3\n",
    "    a3 = softmax(z3)\n",
    "    return z1, a1, z2, a2, z3, a3\n",
    "\n",
    "def initial_params(input_lyr, hid_lyr_1, hid_lyr_2, output_lyr):\n",
    "    b1 = np.full((hid_lyr_1, 1), 0.01)\n",
    "    w1 = np.random.randn(hid_lyr_1, input_lyr) * np.sqrt(2. / input_lyr)\n",
    "    b2 = np.full((hid_lyr_2, 1), 0.01)\n",
    "    w2 = np.random.randn(hid_lyr_2, hid_lyr_1) * np.sqrt(2. / hid_lyr_1)\n",
    "    b3 = np.full((output_lyr, 1), 0.01)\n",
    "    w3 = np.random.randn(output_lyr, hid_lyr_2) * np.sqrt(2. / hid_lyr_1)\n",
    "    return w1, b1, w2, b2, w3, b3\n",
    "\n",
    "def one_hot(Y):\n",
    "    one_hot_y=np.zeros((Y.size, Y.max()+1))\n",
    "    one_hot_y[np.arange(Y.size), Y]=1\n",
    "    one_hot_y=one_hot_y.T\n",
    "    return one_hot_y\n",
    "    \n",
    "def derivative_relu(Z):\n",
    "    return Z > 0\n",
    "    \n",
    "def backwards_propagation(y, z1, a1, z2, a2, x, w2, z3, a3, w3):\n",
    "    one_hot_y= one_hot(y)\n",
    "    m = y.size\n",
    "    dz3 = a3 - one_hot_y\n",
    "    dw3 = 1/m*np.dot(dz3,a2.T)\n",
    "    db3 = np.sum(dz3, axis=1, keepdims=True)/m\n",
    "    dz2 = np.dot(w3.T, dz3)*derivative_relu(z2)\n",
    "    dw2 = 1/m* np.dot(dz2,a1.T)\n",
    "    db2 = np.sum(dz2, axis=1, keepdims=True) / m\n",
    "    dz1 = np.dot(w2.T, dz2)*derivative_relu(z1)\n",
    "    dw1 = 1/m * np.dot(dz1,x.T)\n",
    "    db1 = np.sum(dz1, axis=1, keepdims=True) / m\n",
    "    return dw1, db1, dw2, db2, dw3, db3\n",
    "\n",
    "def update_parameters(w1, b1, w2, b2, w3, b3, dw1, db1, dw2, db2, dw3, db3, alpha):\n",
    "    w1 = w1 - alpha * dw1\n",
    "    b1 = b1 - alpha * db1\n",
    "    w2 = w2 - alpha * dw2\n",
    "    b2 = b2 - alpha * db2\n",
    "    w3 = w3 - alpha * dw3\n",
    "    b3 = b3 - alpha * db3\n",
    "    return w1, b1, w2, b2, w3, b3\n",
    "\n",
    "def compute_accuracy(y_true, y_pred):\n",
    "    \"\"\"\n",
    "    Computes the accuracy of the predictions.\n",
    "\n",
    "    Parameters:\n",
    "    y_true (numpy.ndarray): The true labels (not one-hot encoded).\n",
    "    y_pred (numpy.ndarray): The predictions, as probabilities (output of softmax).\n",
    "\n",
    "    Returns:\n",
    "    float: The accuracy.\n",
    "    \"\"\"\n",
    "    # Get predicted labels from y_pred\n",
    "    predictions = np.argmax(y_pred, axis=0)\n",
    "    correct_predictions = predictions == y_true\n",
    "    accuracy = np.mean(correct_predictions)\n",
    "    return accuracy\n",
    "\n",
    "\n",
    "    "
   ]
  },
  {
   "cell_type": "code",
   "execution_count": 8,
   "id": "65c8287b",
   "metadata": {},
   "outputs": [],
   "source": [
    "def gradient_descent(x, y, iterations, alpha, input_lyr, hid_lyr_1, hid_lyr_2, output_lyr):\n",
    "    w1, b1, w2, b2, w3, b3 = initial_params(input_lyr, hid_lyr_1, hid_lyr_2, output_lyr) # Ensure this function is defined and returns the initial parameters\n",
    "    for i in range(iterations):\n",
    "        z1, a1, z2, a2, z3, a3 = forward_propagation(x, w1, b1, w2, b2, w3, b3)\n",
    "        dw1, db1, dw2, db2, dw3, db3 = backwards_propagation(y, z1, a1, z2, a2, x, w2, z3, a3, w3)\n",
    "        w1, b1, w2, b2, w3, b3 = update_parameters(w1, b1, w2, b2, w3, b3, dw1, db1, dw2, db2, dw3, db3, alpha)\n",
    "        if i % 10 == 0:  # Optionally, print the accuracy every 100 iterations\n",
    "            accuracy = compute_accuracy(y, a3)\n",
    "            print(f\"Iteration {i}: Accuracy = {accuracy}\")\n",
    "\n",
    "\n",
    "    return w1, b1, w2, b2, w3, b3"
   ]
  },
  {
   "cell_type": "code",
   "execution_count": 9,
   "id": "28f1b4f6",
   "metadata": {},
   "outputs": [
    {
     "name": "stdout",
     "output_type": "stream",
     "text": [
      "Iteration 0: Accuracy = 0.04935\n",
      "Iteration 10: Accuracy = 0.5900333333333333\n",
      "Iteration 20: Accuracy = 0.6942666666666667\n",
      "Iteration 30: Accuracy = 0.7418833333333333\n",
      "Iteration 40: Accuracy = 0.76905\n",
      "Iteration 50: Accuracy = 0.7871833333333333\n",
      "Iteration 60: Accuracy = 0.8025833333333333\n",
      "Iteration 70: Accuracy = 0.8136833333333333\n",
      "Iteration 80: Accuracy = 0.8222333333333334\n",
      "Iteration 90: Accuracy = 0.8288333333333333\n",
      "Iteration 100: Accuracy = 0.8347\n",
      "Iteration 110: Accuracy = 0.8401666666666666\n",
      "Iteration 120: Accuracy = 0.84465\n",
      "Iteration 130: Accuracy = 0.8487833333333333\n",
      "Iteration 140: Accuracy = 0.8525166666666667\n",
      "Iteration 150: Accuracy = 0.8558166666666667\n",
      "Iteration 160: Accuracy = 0.8584833333333334\n",
      "Iteration 170: Accuracy = 0.8611833333333333\n",
      "Iteration 180: Accuracy = 0.8638833333333333\n",
      "Iteration 190: Accuracy = 0.8662\n",
      "Iteration 200: Accuracy = 0.8682\n",
      "Iteration 210: Accuracy = 0.8703666666666666\n",
      "Iteration 220: Accuracy = 0.8727\n",
      "Iteration 230: Accuracy = 0.8748333333333334\n",
      "Iteration 240: Accuracy = 0.8765166666666667\n",
      "Iteration 250: Accuracy = 0.8780166666666667\n",
      "Iteration 260: Accuracy = 0.8796\n",
      "Iteration 270: Accuracy = 0.8807833333333334\n",
      "Iteration 280: Accuracy = 0.8824833333333333\n",
      "Iteration 290: Accuracy = 0.88365\n",
      "Iteration 300: Accuracy = 0.8848666666666667\n",
      "Iteration 310: Accuracy = 0.8862166666666667\n",
      "Iteration 320: Accuracy = 0.8870666666666667\n",
      "Iteration 330: Accuracy = 0.8880833333333333\n",
      "Iteration 340: Accuracy = 0.8890333333333333\n",
      "Iteration 350: Accuracy = 0.8900666666666667\n",
      "Iteration 360: Accuracy = 0.8909\n",
      "Iteration 370: Accuracy = 0.89215\n",
      "Iteration 380: Accuracy = 0.8932166666666667\n",
      "Iteration 390: Accuracy = 0.8939333333333334\n",
      "Iteration 400: Accuracy = 0.8950166666666667\n",
      "Iteration 410: Accuracy = 0.8956666666666667\n",
      "Iteration 420: Accuracy = 0.8964166666666666\n",
      "Iteration 430: Accuracy = 0.8973333333333333\n",
      "Iteration 440: Accuracy = 0.8984333333333333\n",
      "Iteration 450: Accuracy = 0.8990666666666667\n",
      "Iteration 460: Accuracy = 0.8999166666666667\n",
      "Iteration 470: Accuracy = 0.90065\n",
      "Iteration 480: Accuracy = 0.90145\n",
      "Iteration 490: Accuracy = 0.90215\n",
      "Iteration 500: Accuracy = 0.9028\n",
      "Iteration 510: Accuracy = 0.9035166666666666\n",
      "Iteration 520: Accuracy = 0.9042833333333333\n",
      "Iteration 530: Accuracy = 0.9049\n",
      "Iteration 540: Accuracy = 0.9056333333333333\n",
      "Iteration 550: Accuracy = 0.9063\n",
      "Iteration 560: Accuracy = 0.9068666666666667\n",
      "Iteration 570: Accuracy = 0.90735\n",
      "Iteration 580: Accuracy = 0.9077166666666666\n",
      "Iteration 590: Accuracy = 0.9083333333333333\n",
      "Iteration 600: Accuracy = 0.9088166666666667\n",
      "Iteration 610: Accuracy = 0.9092166666666667\n",
      "Iteration 620: Accuracy = 0.9099166666666667\n",
      "Iteration 630: Accuracy = 0.9103666666666667\n",
      "Iteration 640: Accuracy = 0.9110666666666667\n",
      "Iteration 650: Accuracy = 0.9114\n",
      "Iteration 660: Accuracy = 0.912\n",
      "Iteration 670: Accuracy = 0.9126333333333333\n",
      "Iteration 680: Accuracy = 0.9131333333333334\n",
      "Iteration 690: Accuracy = 0.91355\n",
      "Iteration 700: Accuracy = 0.9139666666666667\n",
      "Iteration 710: Accuracy = 0.9146\n",
      "Iteration 720: Accuracy = 0.9150166666666667\n",
      "Iteration 730: Accuracy = 0.9154833333333333\n",
      "Iteration 740: Accuracy = 0.91585\n",
      "Iteration 750: Accuracy = 0.9163\n",
      "Iteration 760: Accuracy = 0.9168333333333333\n",
      "Iteration 770: Accuracy = 0.9173333333333333\n",
      "Iteration 780: Accuracy = 0.9177666666666666\n",
      "Iteration 790: Accuracy = 0.9180666666666667\n",
      "Iteration 800: Accuracy = 0.9187333333333333\n",
      "Iteration 810: Accuracy = 0.9191\n",
      "Iteration 820: Accuracy = 0.9195\n",
      "Iteration 830: Accuracy = 0.92\n",
      "Iteration 840: Accuracy = 0.9202333333333333\n",
      "Iteration 850: Accuracy = 0.9206833333333333\n",
      "Iteration 860: Accuracy = 0.9211\n",
      "Iteration 870: Accuracy = 0.9216666666666666\n",
      "Iteration 880: Accuracy = 0.9219833333333334\n",
      "Iteration 890: Accuracy = 0.9223166666666667\n",
      "Iteration 900: Accuracy = 0.9227666666666666\n",
      "Iteration 910: Accuracy = 0.9230666666666667\n",
      "Iteration 920: Accuracy = 0.92335\n",
      "Iteration 930: Accuracy = 0.9236\n",
      "Iteration 940: Accuracy = 0.9240666666666667\n",
      "Iteration 950: Accuracy = 0.92435\n",
      "Iteration 960: Accuracy = 0.9247833333333333\n",
      "Iteration 970: Accuracy = 0.9251833333333334\n",
      "Iteration 980: Accuracy = 0.9255833333333333\n",
      "Iteration 990: Accuracy = 0.9259333333333334\n"
     ]
    }
   ],
   "source": [
    "w1, b1, w2, b2, w3, b3 = gradient_descent(x_data, y_data, 1000, 0.0005, input_lyr, hid_lyr_1, hid_lyr_2, output_lyr)"
   ]
  },
  {
   "cell_type": "code",
   "execution_count": 12,
   "id": "82a76837",
   "metadata": {},
   "outputs": [
    {
     "name": "stdout",
     "output_type": "stream",
     "text": [
      "Test Accuracy: 0.909\n"
     ]
    }
   ],
   "source": [
    "test_data_pd=pd.read_csv('/Users/jamie/Personal/Coding/archive/mnist_test.csv')\n",
    "test_data_np=np.array(test_data_pd).T\n",
    "t,u = test_data_np.shape\n",
    "y_test = test_data_np[0]\n",
    "x_test= test_data_np[1:u]\n",
    "z_test, a1_test, z2_test, a2_test, z3_test, a3_test = forward_propagation(x_test, w1, b1, w2, b2, w3, b3)\n",
    "test_accuracy = compute_accuracy(y_test, a3_test)\n",
    "\n",
    "print(f\"Test Accuracy: {test_accuracy}\")"
   ]
  },
  {
   "cell_type": "code",
   "execution_count": 13,
   "id": "487c5c67",
   "metadata": {},
   "outputs": [],
   "source": [
    "def display_image_with_prediction(index, x_test, y_test, w1, b1, w2, b2, w3, b3):\n",
    "    \"\"\"\n",
    "    Display an image from the test set and the model's prediction.\n",
    "\n",
    "    Parameters:\n",
    "    - index: Index of the image in the test dataset.\n",
    "    - x_test: Test images.\n",
    "    - y_test: True labels for the test images.\n",
    "    - w1, b1, w2, b2, w3, b3: Parameters of the trained model.\n",
    "    \"\"\"\n",
    "    # Reshape the image to 28x28 for display\n",
    "    image = x_test[:, index].reshape(28, 28)\n",
    "    plt.imshow(image, cmap='gray')\n",
    "    plt.axis('off')  # Do not show axes to keep it clean\n",
    "    plt.show()\n",
    "    \n",
    "    # Predict the label for the selected image\n",
    "    # Note: x_test[:, index:index+1] is used to keep the dimension\n",
    "    _, _, _, _, _, a3 = forward_propagation(x_test[:, index:index+1], w1, b1, w2, b2, w3, b3)\n",
    "    predicted_label = np.argmax(a3, axis=0)\n",
    "    \n",
    "    print(f\"True Label: {y_test[index]}\")\n",
    "    print(f\"Predicted Label: {predicted_label[0]}\")\n"
   ]
  },
  {
   "cell_type": "code",
   "execution_count": 14,
   "id": "e4307d1f",
   "metadata": {},
   "outputs": [
    {
     "data": {
      "image/png": "[encoded data removed]",
      "text/plain": [
       "<Figure size 640x480 with 1 Axes>"
      ]
     },
     "metadata": {},
     "output_type": "display_data"
    },
    {
     "name": "stdout",
     "output_type": "stream",
     "text": [
      "True Label: 8\n",
      "Predicted Label: 8\n"
     ]
    },
    {
     "data": {
      "image/png": "[encoded data removed]",
      "text/plain": [
       "<Figure size 640x480 with 1 Axes>"
      ]
     },
     "metadata": {},
     "output_type": "display_data"
    },
    {
     "name": "stdout",
     "output_type": "stream",
     "text": [
      "True Label: 6\n",
      "Predicted Label: 6\n"
     ]
    },
    {
     "data": {
      "image/png": "[encoded data removed]",
      "text/plain": [
       "<Figure size 640x480 with 1 Axes>"
      ]
     },
     "metadata": {},
     "output_type": "display_data"
    },
    {
     "name": "stdout",
     "output_type": "stream",
     "text": [
      "True Label: 1\n",
      "Predicted Label: 1\n"
     ]
    },
    {
     "data": {
      "image/png": "[encoded data removed]",
      "text/plain": [
       "<Figure size 640x480 with 1 Axes>"
      ]
     },
     "metadata": {},
     "output_type": "display_data"
    },
    {
     "name": "stdout",
     "output_type": "stream",
     "text": [
      "True Label: 0\n",
      "Predicted Label: 0\n"
     ]
    },
    {
     "data": {
      "image/png": "[encoded data removed]",
      "text/plain": [
       "<Figure size 640x480 with 1 Axes>"
      ]
     },
     "metadata": {},
     "output_type": "display_data"
    },
    {
     "name": "stdout",
     "output_type": "stream",
     "text": [
      "True Label: 7\n",
      "Predicted Label: 7\n"
     ]
    },
    {
     "data": {
      "image/png": "[encoded data removed]",
      "text/plain": [
       "<Figure size 640x480 with 1 Axes>"
      ]
     },
     "metadata": {},
     "output_type": "display_data"
    },
    {
     "name": "stdout",
     "output_type": "stream",
     "text": [
      "True Label: 1\n",
      "Predicted Label: 1\n"
     ]
    },
    {
     "data": {
      "image/png": "[encoded data removed]",
      "text/plain": [
       "<Figure size 640x480 with 1 Axes>"
      ]
     },
     "metadata": {},
     "output_type": "display_data"
    },
    {
     "name": "stdout",
     "output_type": "stream",
     "text": [
      "True Label: 2\n",
      "Predicted Label: 2\n"
     ]
    },
    {
     "data": {
      "image/png": "[encoded data removed]",
      "text/plain": [
       "<Figure size 640x480 with 1 Axes>"
      ]
     },
     "metadata": {},
     "output_type": "display_data"
    },
    {
     "name": "stdout",
     "output_type": "stream",
     "text": [
      "True Label: 9\n",
      "Predicted Label: 9\n"
     ]
    },
    {
     "data": {
      "image/png": "[encoded data removed]",
      "text/plain": [
       "<Figure size 640x480 with 1 Axes>"
      ]
     },
     "metadata": {},
     "output_type": "display_data"
    },
    {
     "name": "stdout",
     "output_type": "stream",
     "text": [
      "True Label: 5\n",
      "Predicted Label: 5\n"
     ]
    },
    {
     "data": {
      "image/png": "[encoded data removed]",
      "text/plain": [
       "<Figure size 640x480 with 1 Axes>"
      ]
     },
     "metadata": {},
     "output_type": "display_data"
    },
    {
     "name": "stdout",
     "output_type": "stream",
     "text": [
      "True Label: 8\n",
      "Predicted Label: 8\n",
      "Now 10 incorrect\n"
     ]
    },
    {
     "data": {
      "image/png": "[encoded data removed]",
      "text/plain": [
       "<Figure size 640x480 with 1 Axes>"
      ]
     },
     "metadata": {},
     "output_type": "display_data"
    },
    {
     "name": "stdout",
     "output_type": "stream",
     "text": [
      "True Label: 9\n",
      "Predicted Label: 0\n"
     ]
    },
    {
     "data": {
      "image/png": "[encoded data removed]",
      "text/plain": [
       "<Figure size 640x480 with 1 Axes>"
      ]
     },
     "metadata": {},
     "output_type": "display_data"
    },
    {
     "name": "stdout",
     "output_type": "stream",
     "text": [
      "True Label: 7\n",
      "Predicted Label: 1\n"
     ]
    },
    {
     "data": {
      "image/png": "[encoded data removed]",
      "text/plain": [
       "<Figure size 640x480 with 1 Axes>"
      ]
     },
     "metadata": {},
     "output_type": "display_data"
    },
    {
     "name": "stdout",
     "output_type": "stream",
     "text": [
      "True Label: 3\n",
      "Predicted Label: 5\n"
     ]
    },
    {
     "data": {
      "image/png": "[encoded data removed]",
      "text/plain": [
       "<Figure size 640x480 with 1 Axes>"
      ]
     },
     "metadata": {},
     "output_type": "display_data"
    },
    {
     "name": "stdout",
     "output_type": "stream",
     "text": [
      "True Label: 9\n",
      "Predicted Label: 4\n"
     ]
    },
    {
     "data": {
      "image/png": "[encoded data removed]",
      "text/plain": [
       "<Figure size 640x480 with 1 Axes>"
      ]
     },
     "metadata": {},
     "output_type": "display_data"
    },
    {
     "name": "stdout",
     "output_type": "stream",
     "text": [
      "True Label: 8\n",
      "Predicted Label: 3\n"
     ]
    },
    {
     "data": {
      "image/png": "[encoded data removed]",
      "text/plain": [
       "<Figure size 640x480 with 1 Axes>"
      ]
     },
     "metadata": {},
     "output_type": "display_data"
    },
    {
     "name": "stdout",
     "output_type": "stream",
     "text": [
      "True Label: 3\n",
      "Predicted Label: 5\n"
     ]
    },
    {
     "data": {
      "image/png": "[encoded data removed]",
      "text/plain": [
       "<Figure size 640x480 with 1 Axes>"
      ]
     },
     "metadata": {},
     "output_type": "display_data"
    },
    {
     "name": "stdout",
     "output_type": "stream",
     "text": [
      "True Label: 7\n",
      "Predicted Label: 9\n"
     ]
    },
    {
     "data": {
      "image/png": "[encoded data removed]",
      "text/plain": [
       "<Figure size 640x480 with 1 Axes>"
      ]
     },
     "metadata": {},
     "output_type": "display_data"
    },
    {
     "name": "stdout",
     "output_type": "stream",
     "text": [
      "True Label: 6\n",
      "Predicted Label: 8\n"
     ]
    },
    {
     "data": {
      "image/png": "[encoded data removed]",
      "text/plain": [
       "<Figure size 640x480 with 1 Axes>"
      ]
     },
     "metadata": {},
     "output_type": "display_data"
    },
    {
     "name": "stdout",
     "output_type": "stream",
     "text": [
      "True Label: 2\n",
      "Predicted Label: 1\n"
     ]
    },
    {
     "data": {
      "image/png": "[encoded data removed]",
      "text/plain": [
       "<Figure size 640x480 with 1 Axes>"
      ]
     },
     "metadata": {},
     "output_type": "display_data"
    },
    {
     "name": "stdout",
     "output_type": "stream",
     "text": [
      "True Label: 8\n",
      "Predicted Label: 3\n"
     ]
    }
   ],
   "source": [
    "def incorrect_predictions_indices(y_test, a3_test):\n",
    "    predictions = np.argmax(a3_test, axis=0) \n",
    "    incorrect_indices = np.where(y_test != predictions)[0]\n",
    "    return incorrect_indices\n",
    "\n",
    "def correct_predictions_indices(y_test, a3_test):\n",
    "    predictions = np.argmax(a3_test, axis = 0)\n",
    "    correct_indices = np.where(y_test == predictions)[0]\n",
    "    return correct_indices\n",
    "\n",
    "def display_multiple_images(random_subset, x_test, y_test, w1, b1, w2, b2, w3, b3):\n",
    "    for i in random_subset:\n",
    "        display_image_with_prediction(i, x_test, y_test, w1, b1, w2, b2, w3, b3)\n",
    "\n",
    "    \n",
    "correct_indices = correct_predictions_indices(y_test, a3_test)\n",
    "random_subset_2 = np.random.choice(correct_indices, size=10, replace=False)\n",
    "display_multiple_images(random_subset_2, x_test, y_test, w1, b1, w2, b2, w3, b3)\n",
    "\n",
    "print(\"Now 10 incorrect\")\n",
    "incorrect_indices = incorrect_predictions_indices(y_test, a3_test)\n",
    "random_subset = np.random.choice(incorrect_indices, size=10, replace=False)\n",
    "display_multiple_images(random_subset, x_test, y_test, w1, b1, w2, b2, w3, b3)"
   ]
  }
 ],
 "metadata": {
  "kernelspec": {
   "display_name": "Python 3 (ipykernel)",
   "language": "python",
   "name": "python3"
  },
  "language_info": {
   "codemirror_mode": {
    "name": "ipython",
    "version": 3
   },
   "file_extension": ".py",
   "mimetype": "text/x-python",
   "name": "python",
   "nbconvert_exporter": "python",
   "pygments_lexer": "ipython3",
   "version": "3.9.13"
  }
 },
 "nbformat": 4,
 "nbformat_minor": 5
}
